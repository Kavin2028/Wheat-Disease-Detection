{
  "nbformat": 4,
  "nbformat_minor": 0,
  "metadata": {
    "colab": {
      "provenance": [],
      "gpuType": "T4"
    },
    "kernelspec": {
      "name": "python3",
      "display_name": "Python 3"
    },
    "language_info": {
      "name": "python"
    },
    "accelerator": "GPU"
  },
  "cells": [
    {
      "cell_type": "code",
      "execution_count": null,
      "metadata": {
        "colab": {
          "base_uri": "https://localhost:8080/"
        },
        "id": "QV8tCcPzs8M9",
        "outputId": "4d4eab8b-bbc7-4266-9e1b-a3f02d25697b"
      },
      "outputs": [
        {
          "output_type": "stream",
          "name": "stdout",
          "text": [
            "Found 1116 images belonging to 3 classes.\n",
            "Found 279 images belonging to 3 classes.\n",
            "Epoch 1/3\n",
            "34/34 [==============================] - 256s 8s/step - loss: 0.0500 - accuracy: 0.9742 - val_loss: 0.0000e+00 - val_accuracy: 1.0000\n",
            "Epoch 2/3\n",
            "34/34 [==============================] - 23s 690ms/step - loss: 0.0000e+00 - accuracy: 1.0000 - val_loss: 0.0000e+00 - val_accuracy: 1.0000\n",
            "Epoch 3/3\n",
            "34/34 [==============================] - 22s 661ms/step - loss: 0.0000e+00 - accuracy: 1.0000 - val_loss: 0.0000e+00 - val_accuracy: 1.0000\n"
          ]
        },
        {
          "output_type": "stream",
          "name": "stderr",
          "text": [
            "/usr/local/lib/python3.10/dist-packages/keras/src/engine/training.py:3103: UserWarning: You are saving your model as an HDF5 file via `model.save()`. This file format is considered legacy. We recommend using instead the native Keras format, e.g. `model.save('my_model.keras')`.\n",
            "  saving_api.save_model(\n"
          ]
        }
      ],
      "source": [
        "import tensorflow as tf\n",
        "from tensorflow.keras import layers, models\n",
        "from tensorflow.keras.applications import VGG16\n",
        "from tensorflow.keras.preprocessing.image import ImageDataGenerator\n",
        "\n",
        "# Directory paths\n",
        "train_data_dir = '/content/drive/MyDrive/data/train'\n",
        "validation_data_dir = '/content/drive/MyDrive/data/val'\n",
        "\n",
        "# Image dimensions\n",
        "img_width, img_height = 160, 160\n",
        "\n",
        "# Batch size\n",
        "batch_size = 32\n",
        "\n",
        "# Data augmentation parameters\n",
        "train_datagen = ImageDataGenerator(\n",
        "    rescale=1./255,\n",
        "    rotation_range=20,\n",
        "    width_shift_range=0.2,\n",
        "    height_shift_range=0.2,\n",
        "    shear_range=0.2,\n",
        "    zoom_range=[0.8, 1],\n",
        ")\n",
        "\n",
        "validation_datagen = ImageDataGenerator(rescale=1./255)\n",
        "\n",
        "# Generating image data generators\n",
        "train_generator = train_datagen.flow_from_directory(\n",
        "    train_data_dir,\n",
        "    target_size=(img_width, img_height),\n",
        "    batch_size=batch_size,\n",
        "    classes=['Brown rust', 'Healthy', 'Yellow rust'],  # Adjusted to 3 classes\n",
        "    class_mode='categorical'\n",
        ")\n",
        "\n",
        "validation_generator = validation_datagen.flow_from_directory(\n",
        "    validation_data_dir,\n",
        "    target_size=(img_width, img_height),\n",
        "    batch_size=batch_size,\n",
        "    classes=['Brown rust', 'Healthy', 'Yellow rust'],  # Adjusted to 3 classes\n",
        "    class_mode='categorical'\n",
        ")\n",
        "\n",
        "# Build the CNN model with VGG16 base\n",
        "vgg_base = VGG16(weights='imagenet', include_top=False, input_shape=(img_width, img_height, 3))\n",
        "\n",
        "model = models.Sequential()\n",
        "model.add(vgg_base)\n",
        "model.add(layers.Flatten())\n",
        "model.add(layers.Dense(256, activation='relu'))\n",
        "model.add(layers.Dropout(0.5))\n",
        "model.add(layers.Dense(3, activation='softmax'))  # Adjusted output classes to 3\n",
        "\n",
        "# Freeze the VGG16 base layers\n",
        "vgg_base.trainable = False\n",
        "\n",
        "# Compile the model\n",
        "model.compile(optimizer='adam', loss='categorical_crossentropy', metrics=['accuracy'])\n",
        "\n",
        "# Training parameters\n",
        "epochs = 3\n",
        "\n",
        "# Train the model\n",
        "model.fit(\n",
        "    train_generator,\n",
        "    steps_per_epoch=train_generator.samples // batch_size,\n",
        "    epochs=epochs,\n",
        "    validation_data=validation_generator,\n",
        "    validation_steps=validation_generator.samples // batch_size\n",
        ")\n",
        "\n",
        "# Save the trained model\n",
        "model.save('/content/CNNModel_saved.h5')"
      ]
    },
    {
      "cell_type": "code",
      "source": [
        "from google.colab import drive\n",
        "drive.mount('/content/drive')"
      ],
      "metadata": {
        "colab": {
          "base_uri": "https://localhost:8080/"
        },
        "id": "hYYl2NO48VJn",
        "outputId": "319c0faf-bf7f-48de-9476-aed23b0225f6"
      },
      "execution_count": 1,
      "outputs": [
        {
          "output_type": "stream",
          "name": "stdout",
          "text": [
            "Mounted at /content/drive\n"
          ]
        }
      ]
    },
    {
      "cell_type": "code",
      "source": [
        "from tensorflow.keras import models, layers\n",
        "from tensorflow.keras.preprocessing.image import ImageDataGenerator\n",
        "from keras.applications import VGG16\n",
        "\n",
        "# Directory path for training and validation data\n",
        "train_data_dir = '/content/drive/MyDrive/data/train'\n",
        "validation_data_dir = '/content/drive/MyDrive/data/val'\n",
        "\n",
        "# Image dimensions\n",
        "img_width, img_height = 256, 256\n",
        "\n",
        "# Batch size\n",
        "batch_size = 32\n",
        "\n",
        "# Data augmentation parameters for training data\n",
        "train_datagen = ImageDataGenerator(\n",
        "    rescale=1./255,\n",
        "    rotation_range=20,\n",
        "    width_shift_range=0.2,\n",
        "    height_shift_range=0.2,\n",
        "    shear_range=0.2,\n",
        "    zoom_range=[0.8, 1],\n",
        "    horizontal_flip=True,  # Enable horizontal flipping\n",
        "    fill_mode='nearest'     # Fill mode for filling in newly created pixels\n",
        ")\n",
        "\n",
        "# Data augmentation parameters for validation data (only rescaling)\n",
        "validation_datagen = ImageDataGenerator(rescale=1./255)\n",
        "\n",
        "# Generating image data generators for training and validation data\n",
        "train_generator = train_datagen.flow_from_directory(\n",
        "    train_data_dir,\n",
        "    target_size=(img_width, img_height),\n",
        "    batch_size=batch_size,\n",
        "    classes=['Brown_rust', 'Healthy', 'Yellow_rust','Septoria',],  # Adjusted to 3 classes\n",
        "    class_mode='categorical'\n",
        ")\n",
        "\n",
        "validation_generator = validation_datagen.flow_from_directory(\n",
        "    validation_data_dir,\n",
        "    target_size=(img_width, img_height),\n",
        "    batch_size=batch_size,\n",
        "    classes=['Brown_rust', 'Healthy', 'Yellow_rust','Septoria',],  # Adjusted to 3 classes\n",
        "    class_mode='categorical'\n",
        ")\n",
        "\n",
        "# Define the CNN architecture\n",
        "model = models.Sequential()\n",
        "model.add(layers.Conv2D(32, (3, 3), activation='relu', input_shape=(img_width, img_height, 3)))\n",
        "model.add(layers.MaxPooling2D((2, 2)))\n",
        "model.add(layers.Conv2D(64, (3, 3), activation='relu'))\n",
        "model.add(layers.MaxPooling2D((2, 2)))\n",
        "model.add(layers.Conv2D(128, (3, 3), activation='relu'))\n",
        "model.add(layers.MaxPooling2D((2, 2)))\n",
        "model.add(layers.Flatten())\n",
        "model.add(layers.Dense(128, activation='relu'))\n",
        "model.add(layers.Dropout(0.5))\n",
        "model.add(layers.Dense(256, activation='relu'))  # Additional Dense layer\n",
        "model.add(layers.Dropout(0.5))  # Dropout layer for regularization\n",
        "model.add(layers.Dense(len(train_generator.class_indices), activation='softmax'))\n",
        "\n",
        "# Compile the model\n",
        "model.compile(optimizer='adam', loss='categorical_crossentropy', metrics=['accuracy'])\n",
        "\n",
        "# Print the model summary\n",
        "model.summary()\n",
        "\n",
        "# Training the model\n",
        "epochs = 10  # You need to define the number of epochs\n",
        "history = model.fit(\n",
        "    train_generator,\n",
        "    steps_per_epoch=train_generator.samples // batch_size,\n",
        "    epochs=epochs,\n",
        "    validation_data=validation_generator,\n",
        "    validation_steps=validation_generator.samples // batch_size\n",
        ")\n",
        "\n",
        "# Saving the model\n",
        "model.save('/content/drive/MyDrive/CNNModel_saved.h5')\n"
      ],
      "metadata": {
        "colab": {
          "base_uri": "https://localhost:8080/"
        },
        "id": "XZt6qWtxwxwH",
        "outputId": "844d915b-1dd8-4a32-d07d-b6e235a3dc89"
      },
      "execution_count": 2,
      "outputs": [
        {
          "output_type": "stream",
          "name": "stdout",
          "text": [
            "Found 3059 images belonging to 5 classes.\n",
            "Found 792 images belonging to 5 classes.\n",
            "Model: \"sequential\"\n",
            "_________________________________________________________________\n",
            " Layer (type)                Output Shape              Param #   \n",
            "=================================================================\n",
            " conv2d (Conv2D)             (None, 254, 254, 32)      896       \n",
            "                                                                 \n",
            " max_pooling2d (MaxPooling2  (None, 127, 127, 32)      0         \n",
            " D)                                                              \n",
            "                                                                 \n",
            " conv2d_1 (Conv2D)           (None, 125, 125, 64)      18496     \n",
            "                                                                 \n",
            " max_pooling2d_1 (MaxPoolin  (None, 62, 62, 64)        0         \n",
            " g2D)                                                            \n",
            "                                                                 \n",
            " conv2d_2 (Conv2D)           (None, 60, 60, 128)       73856     \n",
            "                                                                 \n",
            " max_pooling2d_2 (MaxPoolin  (None, 30, 30, 128)       0         \n",
            " g2D)                                                            \n",
            "                                                                 \n",
            " flatten (Flatten)           (None, 115200)            0         \n",
            "                                                                 \n",
            " dense (Dense)               (None, 128)               14745728  \n",
            "                                                                 \n",
            " dropout (Dropout)           (None, 128)               0         \n",
            "                                                                 \n",
            " dense_1 (Dense)             (None, 256)               33024     \n",
            "                                                                 \n",
            " dropout_1 (Dropout)         (None, 256)               0         \n",
            "                                                                 \n",
            " dense_2 (Dense)             (None, 5)                 1285      \n",
            "                                                                 \n",
            "=================================================================\n",
            "Total params: 14873285 (56.74 MB)\n",
            "Trainable params: 14873285 (56.74 MB)\n",
            "Non-trainable params: 0 (0.00 Byte)\n",
            "_________________________________________________________________\n",
            "Epoch 1/10\n",
            "95/95 [==============================] - 1251s 13s/step - loss: 0.9677 - accuracy: 0.6386 - val_loss: 0.5981 - val_accuracy: 0.8346\n",
            "Epoch 2/10\n",
            "95/95 [==============================] - 82s 870ms/step - loss: 0.4982 - accuracy: 0.8391 - val_loss: 0.7172 - val_accuracy: 0.7565\n",
            "Epoch 3/10\n",
            "95/95 [==============================] - 82s 857ms/step - loss: 0.4348 - accuracy: 0.8715 - val_loss: 0.3730 - val_accuracy: 0.8763\n",
            "Epoch 4/10\n",
            "95/95 [==============================] - 83s 872ms/step - loss: 0.3245 - accuracy: 0.8996 - val_loss: 0.4748 - val_accuracy: 0.8594\n",
            "Epoch 5/10\n",
            "95/95 [==============================] - 80s 848ms/step - loss: 0.3098 - accuracy: 0.9022 - val_loss: 0.3237 - val_accuracy: 0.8893\n",
            "Epoch 6/10\n",
            "95/95 [==============================] - 82s 860ms/step - loss: 0.2789 - accuracy: 0.9125 - val_loss: 0.5013 - val_accuracy: 0.8763\n",
            "Epoch 7/10\n",
            "95/95 [==============================] - 81s 856ms/step - loss: 0.2452 - accuracy: 0.9220 - val_loss: 0.2661 - val_accuracy: 0.9219\n",
            "Epoch 8/10\n",
            "95/95 [==============================] - 82s 863ms/step - loss: 0.2409 - accuracy: 0.9277 - val_loss: 0.2382 - val_accuracy: 0.9049\n",
            "Epoch 9/10\n",
            "95/95 [==============================] - 85s 892ms/step - loss: 0.2275 - accuracy: 0.9303 - val_loss: 0.3602 - val_accuracy: 0.9062\n",
            "Epoch 10/10\n",
            "95/95 [==============================] - 81s 859ms/step - loss: 0.2265 - accuracy: 0.9300 - val_loss: 0.2009 - val_accuracy: 0.9193\n"
          ]
        },
        {
          "output_type": "stream",
          "name": "stderr",
          "text": [
            "/usr/local/lib/python3.10/dist-packages/keras/src/engine/training.py:3103: UserWarning: You are saving your model as an HDF5 file via `model.save()`. This file format is considered legacy. We recommend using instead the native Keras format, e.g. `model.save('my_model.keras')`.\n",
            "  saving_api.save_model(\n"
          ]
        }
      ]
    },
    {
      "cell_type": "code",
      "source": [
        "from tensorflow.keras.models import load_model\n",
        "from tensorflow.keras.preprocessing import image\n",
        "import numpy as np\n",
        "\n",
        "# Load your trained model\n",
        "model_path = '/content/drive/MyDrive/CNNModel_saved.h5'  # Update with the path to your saved model\n",
        "model = load_model(model_path)\n",
        "\n",
        "# Path to the single image you want to predict\n",
        "image_path = '/content/drive/MyDrive/data/val/Brown_rust/Brown_rust044.jpg'\n",
        "\n",
        "# Load and preprocess the image\n",
        "img = image.load_img(image_path, target_size=(img_width, img_height))\n",
        "img_array = image.img_to_array(img)\n",
        "img_array = np.expand_dims(img_array, axis=0)\n",
        "img_array = img_array / 255.0  # Rescale to [0,1]\n",
        "\n",
        "# Predict the disease class\n",
        "prediction = model.predict(img_array)\n",
        "predicted_class_index = np.argmax(prediction)\n",
        "class_labels = ['Brown_rust', 'Healthy', 'Yellow_rust','Septoria']\n",
        "predicted_class = class_labels[predicted_class_index]\n",
        "\n",
        "print(\"Predicted class:\", predicted_class)\n"
      ],
      "metadata": {
        "colab": {
          "base_uri": "https://localhost:8080/"
        },
        "id": "IrQXCKTN0tmD",
        "outputId": "7f2a6ceb-7e84-4501-fd57-5885f1aa328b"
      },
      "execution_count": 7,
      "outputs": [
        {
          "output_type": "stream",
          "name": "stderr",
          "text": [
            "WARNING:tensorflow:5 out of the last 5 calls to <function Model.make_predict_function.<locals>.predict_function at 0x7850c0668ee0> triggered tf.function retracing. Tracing is expensive and the excessive number of tracings could be due to (1) creating @tf.function repeatedly in a loop, (2) passing tensors with different shapes, (3) passing Python objects instead of tensors. For (1), please define your @tf.function outside of the loop. For (2), @tf.function has reduce_retracing=True option that can avoid unnecessary retracing. For (3), please refer to https://www.tensorflow.org/guide/function#controlling_retracing and https://www.tensorflow.org/api_docs/python/tf/function for  more details.\n"
          ]
        },
        {
          "output_type": "stream",
          "name": "stdout",
          "text": [
            "1/1 [==============================] - 0s 133ms/step\n",
            "Predicted class: Brown_rust\n"
          ]
        }
      ]
    },
    {
      "cell_type": "code",
      "source": [],
      "metadata": {
        "id": "VwnMA1uv8rCV"
      },
      "execution_count": null,
      "outputs": []
    }
  ]
}